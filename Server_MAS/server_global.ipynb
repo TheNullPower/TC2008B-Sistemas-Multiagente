{
 "nbformat": 4,
 "nbformat_minor": 0,
 "metadata": {
  "colab": {
   "name": "Server_MAS.ipynb",
   "provenance": [],
   "collapsed_sections": [],
   "mount_file_id": "1AXKTUstOluJCX-k9Q_5MZcPc3i7R7CKl",
   "authorship_tag": "ABX9TyPur6q2MDk0h1Pusueiuo+e"
  },
  "kernelspec": {
   "name": "python3",
   "display_name": "Python 3"
  },
  "language_info": {
   "name": "python"
  }
 },
 "cells": [
  {
   "cell_type": "markdown",
   "metadata": {
    "id": "xhkMLxzvqbbr"
   },
   "source": [
    "## Server MAS\n",
    "Adapted by [Jorge Cruz](https://jcrvz.co) for:\n",
    "TC2008B. Sistemas Multiagentes y Gráficas Computacionales. Tecnológico de Monterrey.\n",
    "\n",
    "> Revised version, Nov. 2021\n",
    "\n",
    "> Original implementation: Python server to interact with Unity, Sergio Ruiz, Jul. 2021"
   ]
  },
  {
   "cell_type": "code",
   "metadata": {
    "id": "7w5CEFsIJnex",
    "colab": {
     "base_uri": "https://localhost:8080/"
    },
    "executionInfo": {
     "status": "ok",
     "timestamp": 1636925257837,
     "user_tz": 360,
     "elapsed": 121,
     "user": {
      "displayName": "Jorge Mario Cruz Duarte",
      "photoUrl": "https://lh3.googleusercontent.com/a-/AOh14Gh-DHFQHjHQCpNLac1hISNJK6YlDzS1a6ypV6et=s64",
      "userId": "13516284558844055913"
     }
    },
    "outputId": "90ec0b9b-56c2-4421-9e53-322bf76a5163",
    "pycharm": {
     "is_executing": true
    }
   },
   "source": [
    "# Load the local driver (you need to activate your Drive in Colab)\n",
    "%cd \"/content/drive/MyDrive/TC2008B/G4/\"\n",
    "\n",
    "# Size of the board:\n",
    "width, height = 50, 50"
   ],
   "execution_count": null,
   "outputs": []
  },
  {
   "cell_type": "code",
   "metadata": {
    "colab": {
     "base_uri": "https://localhost:8080/"
    },
    "id": "4auoDWRyJiQJ",
    "executionInfo": {
     "status": "ok",
     "timestamp": 1636925261368,
     "user_tz": 360,
     "elapsed": 3400,
     "user": {
      "displayName": "Jorge Mario Cruz Duarte",
      "photoUrl": "https://lh3.googleusercontent.com/a-/AOh14Gh-DHFQHjHQCpNLac1hISNJK6YlDzS1a6ypV6et=s64",
      "userId": "13516284558844055913"
     }
    },
    "outputId": "1e9089af-b6d4-4b9c-b49e-815a408fc248"
   },
   "source": [
    "# Install pyngrok to propagate the http server\n",
    "%pip install pyngrok --quiet\n",
    "\n",
    "# Load the required packages\n",
    "from pyngrok import ngrok\n",
    "from http.server import BaseHTTPRequestHandler, HTTPServer\n",
    "import logging\n",
    "import json\n",
    "import os\n",
    "import numpy as np\n",
    "\n",
    "# Boid is a dummy implementation that can be replaced with a more sophisticated \n",
    "# MAS module, for example, MESA\n",
    "from boid import Boid\n",
    "\n",
    "# Start ngrok\n",
    "ngrok.install_ngrok()\n",
    "\n",
    "# Terminate open tunnels if exist\n",
    "ngrok.kill()\n",
    "\n",
    "# Open an HTTPs tunnel on port 8585 for http://localhost:8585\n",
    "port = os.environ.get(\"PORT\", 8585)\n",
    "server_address = (\"\", port)\n",
    "\n",
    "public_url = ngrok.connect(port=\"8585\", proto=\"http\", options={\"bind_tls\": True})\n",
    "print(\"\\n\" + \"#\" * 94)\n",
    "print(f\"## Tracking URL: {public_url} ##\")\n",
    "print(\"#\" * 94, end=\"\\n\\n\")"
   ],
   "execution_count": 2,
   "outputs": [
    {
     "output_type": "stream",
     "name": "stdout",
     "text": [
      "\n",
      "##############################################################################################\n",
      "## Tracking URL: NgrokTunnel: \"http://7fb3-35-245-218-31.ngrok.io\" -> \"http://localhost:80\" ##\n",
      "##############################################################################################\n",
      "\n"
     ]
    }
   ]
  },
  {
   "cell_type": "code",
   "metadata": {
    "id": "SN7wShO8HEVq",
    "executionInfo": {
     "status": "ok",
     "timestamp": 1636925261526,
     "user_tz": 360,
     "elapsed": 164,
     "user": {
      "displayName": "Jorge Mario Cruz Duarte",
      "photoUrl": "https://lh3.googleusercontent.com/a-/AOh14Gh-DHFQHjHQCpNLac1hISNJK6YlDzS1a6ypV6et=s64",
      "userId": "13516284558844055913"
     }
    }
   },
   "source": [
    "ngrok.kill()\n",
    "\n",
    "# Set the number of agents here:\n",
    "num_agents = 30\n",
    "\n",
    "flock = [Boid(*np.random.rand(2) * num_agents, width, height) \n",
    "  for _ in range(num_agents)]\n",
    "\n",
    "flock_class = ['Green', 'Red'] * (30 // 2)\n",
    "np.random.shuffle(flock_class)\n",
    "\n",
    "# The way how agents are updated (per step/iteration)\n",
    "def updateFeatures():\n",
    "    global flock\n",
    "    features = []\n",
    "\n",
    "    # For each agent...\n",
    "    for boid, colour in zip(flock, flock_class):\n",
    "        # Update its state\n",
    "        boid.apply_behaviour(flock)\n",
    "        boid.update()\n",
    "\n",
    "        # Read its features\n",
    "        position = list(boid.edges())        \n",
    "        features.append([{\"x\": position[0], \"y\": position[2], \"z\": position[1]},\n",
    "                         'Ball', colour])\n",
    "\n",
    "    return features\n",
    "\n",
    "# Post the information in `features` for each iteration\n",
    "def featuresToJSON(info_list):\n",
    "    featureDICT = []\n",
    "    for info in info_list:\n",
    "        feature = {\n",
    "            \"position\" : info[0], # position\n",
    "            \"kind\" : info[1], # kind\n",
    "            \"colour\" : info[2] # colour\n",
    "        }\n",
    "        featureDICT.append(feature)\n",
    "    return json.dumps(featureDICT)\n",
    "\n",
    "# This is the server. It controls the simulation.\n",
    "# Server run (do not change it)\n",
    "class Server(BaseHTTPRequestHandler):\n",
    "    \n",
    "    def _set_response(self):\n",
    "        self.send_response(200)\n",
    "        self.send_header('Content-type', 'text/html')\n",
    "        self.end_headers()\n",
    "        \n",
    "    def do_GET(self):\n",
    "        logging.info(\"GET request,\\nPath: %s\\nHeaders:\\n%s\\n\", \n",
    "                     str(self.path), str(self.headers))\n",
    "        self._set_response()\n",
    "        self.wfile.write(\"GET request for {}\".format(self.path).encode('utf-8'))\n",
    "\n",
    "    def do_POST(self):\n",
    "        content_length = int(self.headers['Content-Length'])\n",
    "\n",
    "        #post_data = self.rfile.read(content_length)\n",
    "        post_data = json.loads(self.rfile.read(content_length))\n",
    "        \n",
    "        # If you have issues with the encoder, toggle the following lines: \n",
    "        #logging.info(\"POST request,\\nPath: %s\\nHeaders:\\n%s\\n\\nBody:\\n%s\\n\",\n",
    "                     #str(self.path), str(self.headers), post_data.decode('utf-8'))\n",
    "        logging.info(\"POST request,\\nPath: %s\\nHeaders:\\n%s\\n\\nBody:\\n%s\\n\",\n",
    "                     str(self.path), str(self.headers), json.dumps(post_data))\n",
    "\n",
    "        # Here, magick happens \n",
    "        # --------------------       \n",
    "        features = updateFeatures()\n",
    "        #print(features)\n",
    "\n",
    "        self._set_response()\n",
    "        resp = \"{\\\"data\\\":\" + featuresToJSON(features) + \"}\"\n",
    "        #print(resp)\n",
    "\n",
    "        self.wfile.write(resp.encode('utf-8'))\n",
    "\n",
    "# Server run (do not change it)\n",
    "def run(server_class=HTTPServer, handler_class=Server, port=8585):\n",
    "    logging.basicConfig(level=logging.INFO)\n",
    "    server_address = ('', port)\n",
    "    httpd = server_class(server_address, handler_class)\n",
    "\n",
    "    public_url = ngrok.connect(port).public_url\n",
    "    logging.info(\"ngrok tunnel \\\"{}\\\" -> \\\"http://127.0.0.1:{}\\\"\".format(\n",
    "        public_url, port))\n",
    "\n",
    "    logging.info(\"Starting httpd...\\n\") # HTTPD is HTTP Daemon!\n",
    "    try:\n",
    "        httpd.serve_forever()\n",
    "    except KeyboardInterrupt:   # CTRL + C stops the server\n",
    "        pass\n",
    "\n",
    "    httpd.server_close()\n",
    "    logging.info(\"Stopping httpd...\\n\")"
   ],
   "execution_count": 3,
   "outputs": []
  },
  {
   "cell_type": "code",
   "metadata": {
    "colab": {
     "base_uri": "https://localhost:8080/"
    },
    "id": "t9N3DSgljCYf",
    "executionInfo": {
     "status": "ok",
     "timestamp": 1636925425674,
     "user_tz": 360,
     "elapsed": 10960,
     "user": {
      "displayName": "Jorge Mario Cruz Duarte",
      "photoUrl": "https://lh3.googleusercontent.com/a-/AOh14Gh-DHFQHjHQCpNLac1hISNJK6YlDzS1a6ypV6et=s64",
      "userId": "13516284558844055913"
     }
    },
    "outputId": "2f20d41c-4505-48a0-e756-c228c9615f41"
   },
   "source": [
    "run(HTTPServer, Server)"
   ],
   "execution_count": 4,
   "outputs": [
    {
     "output_type": "stream",
     "name": "stderr",
     "text": [
      "INFO:pyngrok.process.ngrok:t=2021-11-14T21:30:14+0000 lvl=info msg=\"join connections\" obj=join id=c37407db3e9d l=127.0.0.1:8585 r=187.161.115.63:10185\n",
      "INFO:root:POST request,\n",
      "Path: /\n",
      "Headers:\n",
      "Host: 5519-35-245-218-31.ngrok.io\n",
      "User-Agent: UnityPlayer/2021.2.1f1 (UnityWebRequest/1.0, libcurl/7.75.0-DEV)\n",
      "Content-Length: 97\n",
      "Accept: */*\n",
      "Accept-Encoding: deflate, gzip\n",
      "Content-Type: application/json\n",
      "X-Forwarded-For: 187.161.115.63\n",
      "X-Forwarded-Proto: http\n",
      "X-Unity-Version: 2021.2.1f1\n",
      "\n",
      "\n",
      "\n",
      "Body:\n",
      "{\"kind\": \"Ball\", \"colour\": \"Red\", \"position\": {\"x\": 3.440000057220459, \"y\": 0.0, \"z\": -15.706999778747559}}\n",
      "\n",
      "127.0.0.1 - - [14/Nov/2021 21:30:14] \"POST / HTTP/1.1\" 200 -\n",
      "INFO:pyngrok.process.ngrok:t=2021-11-14T21:30:19+0000 lvl=info msg=\"join connections\" obj=join id=06b41f8fdeb9 l=127.0.0.1:8585 r=187.161.115.63:10185\n",
      "INFO:root:POST request,\n",
      "Path: /\n",
      "Headers:\n",
      "Host: 5519-35-245-218-31.ngrok.io\n",
      "User-Agent: UnityPlayer/2021.2.1f1 (UnityWebRequest/1.0, libcurl/7.75.0-DEV)\n",
      "Content-Length: 97\n",
      "Accept: */*\n",
      "Accept-Encoding: deflate, gzip\n",
      "Content-Type: application/json\n",
      "X-Forwarded-For: 187.161.115.63\n",
      "X-Forwarded-Proto: http\n",
      "X-Unity-Version: 2021.2.1f1\n",
      "\n",
      "\n",
      "\n",
      "Body:\n",
      "{\"kind\": \"Ball\", \"colour\": \"Red\", \"position\": {\"x\": 3.440000057220459, \"y\": 0.0, \"z\": -15.706999778747559}}\n",
      "\n",
      "127.0.0.1 - - [14/Nov/2021 21:30:19] \"POST / HTTP/1.1\" 200 -\n",
      "INFO:pyngrok.process.ngrok:t=2021-11-14T21:30:25+0000 lvl=info msg=\"received stop request\" obj=app stopReq=\"{err:<nil> restart:false}\"\n",
      "INFO:root:Stopping httpd...\n",
      "\n"
     ]
    }
   ]
  }
 ]
}
